{
  "nbformat": 4,
  "nbformat_minor": 0,
  "metadata": {
    "colab": {
      "name": "python-twitter.ipynb",
      "provenance": [],
      "collapsed_sections": [],
      "include_colab_link": true
    },
    "kernelspec": {
      "name": "python3",
      "display_name": "Python 3"
    }
  },
  "cells": [
    {
      "cell_type": "markdown",
      "metadata": {
        "id": "view-in-github",
        "colab_type": "text"
      },
      "source": [
        "<a href=\"https://colab.research.google.com/github/Nyzl/1i/blob/master/python_twitter.ipynb\" target=\"_parent\"><img src=\"https://colab.research.google.com/assets/colab-badge.svg\" alt=\"Open In Colab\"/></a>"
      ]
    },
    {
      "cell_type": "code",
      "metadata": {
        "id": "6aJW593COZF7",
        "colab_type": "code",
        "colab": {}
      },
      "source": [
        "#install the libraries\n",
        "!pip -q install pandas\n",
        "!pip -q install Tweepy\n",
        "!pip -q install pyLDAvis"
      ],
      "execution_count": 0,
      "outputs": []
    },
    {
      "cell_type": "code",
      "metadata": {
        "id": "IbUTPr1QOpo9",
        "colab_type": "code",
        "outputId": "d552260b-6246-409a-8cb7-91b05c6655f5",
        "colab": {
          "base_uri": "https://localhost:8080/",
          "height": 85
        }
      },
      "source": [
        "#import all the libs needed, including downloading the nltk resources\n",
        "import tweepy\n",
        "import pandas as pd\n",
        "import string,re\n",
        "\n",
        "import pyLDAvis.gensim\n",
        "import nltk\n",
        "nltk.download('stopwords')\n",
        "nltk.download('wordnet')\n",
        "from nltk.corpus import stopwords\n",
        "from nltk.stem.wordnet import WordNetLemmatizer\n",
        "import matplotlib.pyplot as plt\n",
        "\n",
        "import gensim\n",
        "from gensim import corpora\n",
        "from gensim.models import CoherenceModel\n",
        "from gensim.models.wrappers import LdaMallet\n",
        "\n",
        "#!export PYTHONWARNINGS=\"ignore\"\n",
        "import warnings\n",
        "warnings.filterwarnings('ignore')\n",
        "\n"
      ],
      "execution_count": 6,
      "outputs": [
        {
          "output_type": "stream",
          "text": [
            "[nltk_data] Downloading package stopwords to /root/nltk_data...\n",
            "[nltk_data]   Package stopwords is already up-to-date!\n",
            "[nltk_data] Downloading package wordnet to /root/nltk_data...\n",
            "[nltk_data]   Package wordnet is already up-to-date!\n"
          ],
          "name": "stdout"
        }
      ]
    },
    {
      "cell_type": "code",
      "metadata": {
        "id": "dVpda0qXO4Oi",
        "colab_type": "code",
        "colab": {}
      },
      "source": [
        "#download the tweets you need and put them in a nice pandas dataframe\n",
        "consumer_key = 'D3CskEgt9Q18mEmVGnMgyTWOZ'\n",
        "consumer_secret = 'VsmTeE3ptSLseNnXdHHAxqZ2OTClbekZaqoygMSmrdZuqiW8Eb'\n",
        "access_token = '442738667-RZb1zpW5UYI4FDQVm6P3lM5Ml8kvR2AtgqlDqXaw'\n",
        "access_token_secret = 'MrIDPy3oQIRgZvz6UjNEWyfNckMNO3gmnKEdpxZnJxNbi'\n",
        "\n",
        "auth = tweepy.OAuthHandler(consumer_key, consumer_secret)\n",
        "auth.set_access_token(access_token, access_token_secret)\n",
        "\n",
        "api = tweepy.API(auth, wait_on_rate_limit=True)\n",
        "tweets = tweepy.Cursor(api.search,q='brexit+rights', lang='en').items(1000)\n",
        "\n",
        "data = pd.DataFrame(data=[tweet.text for tweet in tweets], columns=['Tweets'])"
      ],
      "execution_count": 0,
      "outputs": []
    },
    {
      "cell_type": "code",
      "metadata": {
        "id": "mBzQyDwVPz89",
        "colab_type": "code",
        "colab": {}
      },
      "source": [
        "#we now haz tweets! Time to analyse"
      ],
      "execution_count": 0,
      "outputs": []
    },
    {
      "cell_type": "code",
      "metadata": {
        "id": "H54YUQcKQaRB",
        "colab_type": "code",
        "colab": {}
      },
      "source": [
        "stop = set(stopwords.words('english'))\n",
        "brexit_stop = {\"rt\",\"brexit\",\"boris\",\"mp\",\"johnson\",\"theresa\",\"donald\",\"tusk\"}\n",
        "stop.update(brexit_stop)\n",
        "\n",
        "at_mentions = re.compile(\"@.*?.\\b\")\n",
        "\n",
        "#adding a list for extra punctuation that has slipped through like bullets and ellipses\n",
        "extra_punc = ['...','..','“','“','”','”','•','…','–']\n",
        "exclude = set(string.punctuation)\n",
        "exclude.update(extra_punc)\n",
        "lemma = WordNetLemmatizer()\n",
        "\n",
        "def word_list(doc):\n",
        "  words = re.split(r'\\W+', doc)\n",
        "  words = [word.lower() for word in words]\n",
        "  return words\n",
        "\n",
        "def clean2(docs):\n",
        "  mention_free = [re.sub(r'@.*?.\\b', '', doc) for doc in docs]\n",
        "  normalized = [\" \".join(lemma.lemmatize(word) for word in word_list(doc)) for doc in mention_free]\n",
        "  stop_free = [\" \".join(word for word in word_list(doc) if word not in stop) for doc in normalized]\n",
        "  punc_free = [[\"\".join(letter for letter in word if letter not in exclude)for word in word_list(doc)] for doc in stop_free]\n",
        "  return punc_free\n",
        "\n",
        "def bagowords():\n",
        "  words = []\n",
        "  for doc in doc_clean:\n",
        "    for word in doc:\n",
        "      words.append(word)\n",
        "  return words\n",
        "\n",
        "docs = data['Tweets']\n",
        "doc_clean = clean2(docs)\n",
        "words = bagowords()\n",
        "\n",
        "word_counts = pd.Series(' '.join(words).split()).value_counts()\n",
        "\n",
        "\n",
        "small = word_counts.quantile(0.05)\n",
        "large = word_counts.quantile(0.999)\n",
        "\n",
        "uncommon = word_counts[word_counts <= max(small,3)]\n",
        "common = word_counts[word_counts >= large]\n",
        "\n",
        "def remove_top_and_tail(texts):\n",
        "    clean = [[word for word in doc if word not in uncommon] for doc in texts]\n",
        "    clean = [[word for word in doc if word not in common] for doc in clean]\n",
        "    return clean\n",
        "  \n",
        "doc_clean = remove_top_and_tail(doc_clean)\n",
        "\n",
        "words_clean = bagowords()\n",
        "word_counts_clean = pd.Series(' '.join(words_clean).split()).value_counts()\n"
      ],
      "execution_count": 0,
      "outputs": []
    },
    {
      "cell_type": "code",
      "metadata": {
        "id": "X55kXmSjQgUA",
        "colab_type": "code",
        "colab": {}
      },
      "source": [
        "# Creating the term dictionary of our courpus, where every unique term is assigned an index. \n",
        "dictionary = corpora.Dictionary(doc_clean)\n",
        "corpus = [dictionary.doc2bow(text) for text in doc_clean]\n",
        "\n",
        "# Converting list of documents (corpus) into Document Term Matrix using dictionary prepared above.\n",
        "doc_term_matrix = [dictionary.doc2bow(doc) for doc in doc_clean]\n",
        "\n",
        "# Creating the object for LDA model using gensim library\n",
        "Lda = gensim.models.ldamodel.LdaModel"
      ],
      "execution_count": 0,
      "outputs": []
    },
    {
      "cell_type": "code",
      "metadata": {
        "id": "X2oIDfp-QpQq",
        "colab_type": "code",
        "outputId": "31453888-c838-436c-8c5d-8b97c4ff1cf3",
        "colab": {
          "base_uri": "https://localhost:8080/",
          "height": 51
        }
      },
      "source": [
        "number_of_topics = 5\n",
        "# Running and Training LDA model on the document term matrix.\n",
        "ldamodel = Lda(doc_term_matrix, num_topics=number_of_topics, id2word=dictionary, passes=100)\n",
        "\n",
        "coherence_model_lda = CoherenceModel(model=ldamodel, texts=doc_clean, dictionary=dictionary, coherence='c_uci')\n",
        "coherence_lda = coherence_model_lda.get_coherence()\n",
        "print('\\nCoherence Score: ', coherence_lda)\n"
      ],
      "execution_count": 0,
      "outputs": [
        {
          "output_type": "stream",
          "text": [
            "\n",
            "Coherence Score:  -7.869041522617211\n"
          ],
          "name": "stdout"
        }
      ]
    },
    {
      "cell_type": "code",
      "metadata": {
        "id": "9IPjasw_RdPj",
        "colab_type": "code",
        "colab": {}
      },
      "source": [
        "lda_display = pyLDAvis.gensim.prepare(ldamodel, corpus, dictionary)\n",
        "pyLDAvis.display(lda_display)"
      ],
      "execution_count": 0,
      "outputs": []
    },
    {
      "cell_type": "code",
      "metadata": {
        "id": "YvhtjYBP3aih",
        "colab_type": "code",
        "outputId": "3ce23e73-5807-44b3-9981-9e1c08edee6c",
        "colab": {
          "base_uri": "https://localhost:8080/",
          "height": 283
        }
      },
      "source": [
        "start = 1\n",
        "#limit = 15 #@param {type:\"slider\", min:1, max:100, step:1}\n",
        "step = 1\n",
        "limit = 21\n",
        "#number_of_topics = 5\n",
        "\n",
        "def compute_coherence_values(dictionary, corpus, texts, limit, start=1, step=1):\n",
        "    \"\"\"\n",
        "    Compute c_v coherence for various number of topics\n",
        "\n",
        "    Parameters:\n",
        "    ----------\n",
        "    dictionary : Gensim dictionary\n",
        "    corpus : Gensim corpus\n",
        "    texts : List of input texts\n",
        "    limit : Max num of topics\n",
        "\n",
        "    Returns:\n",
        "    -------\n",
        "    model_list : List of LDA topic models\n",
        "    coherence_values : Coherence values corresponding to the LDA model with respective number of topics\n",
        "    \"\"\"\n",
        "    coherence_values = []\n",
        "    model_list = []\n",
        "    for num_topics in range(start, limit, step):\n",
        "        model = gensim.models.ldamodel.LdaModel(doc_term_matrix, num_topics=num_topics, id2word = dictionary, passes=50)\n",
        "        model_list.append(model)\n",
        "        coherencemodel = CoherenceModel(model=model, texts=texts, dictionary=dictionary, coherence='c_v')\n",
        "        coherence_values.append(coherencemodel.get_coherence())\n",
        "\n",
        "    return model_list, coherence_values\n",
        "  \n",
        "\n",
        "model_list, coherence_values = compute_coherence_values(dictionary=dictionary, corpus=corpus, texts=doc_clean, start=start, limit=limit, step=step)\n",
        "\n",
        "%matplotlib inline\n",
        "\n",
        "limit=limit; start=start; step=step;\n",
        "x = range(start, limit, step)\n",
        "axes = plt.gca()\n",
        "axes.set_xlim([0,limit])\n",
        "axes.set_ylim([0,1])\n",
        "\n",
        "plt.plot(x, coherence_values)\n",
        "plt.xlabel(\"Num Topics\")\n",
        "plt.ylabel(\"Coherence score\")\n",
        "plt.legend((\"coherence_values\"), loc='best')\n",
        "plt.show()"
      ],
      "execution_count": 0,
      "outputs": [
        {
          "output_type": "display_data",
          "data": {
            "image/png": "[encoded data removed]",
            "text/plain": [
              "<Figure size 432x288 with 1 Axes>"
            ]
          },
          "metadata": {
            "tags": []
          }
        }
      ]
    }
  ]
}